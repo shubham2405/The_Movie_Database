{
  "nbformat": 4,
  "nbformat_minor": 0,
  "metadata": {
    "colab": {
      "provenance": []
    },
    "kernelspec": {
      "name": "python3",
      "display_name": "Python 3"
    },
    "language_info": {
      "name": "python"
    }
  },
  "cells": [
    {
      "cell_type": "markdown",
      "source": [
        "TMDb API enables you to find out the latest information about TV Shows, Movies and the biggest names in entertainment sector for a marvelous and fun TV/Movie watching experience."
      ],
      "metadata": {
        "id": "VrIt1RyzFwjf"
      }
    },
    {
      "cell_type": "markdown",
      "source": [
        "Finding movie id of \"Andhadhun\""
      ],
      "metadata": {
        "id": "oCPzYWtwF_C1"
      }
    },
    {
      "cell_type": "code",
      "execution_count": null,
      "metadata": {
        "colab": {
          "base_uri": "https://localhost:8080/"
        },
        "id": "10P21EpmEsVM",
        "outputId": "4569934f-7a76-483f-86b6-f920d69fe3f2"
      },
      "outputs": [
        {
          "output_type": "stream",
          "name": "stdout",
          "text": [
            "https://api.themoviedb.org/3/search/movie?query=Andhadhun&api_key=3c755c2d553dd762458df0be8dc572a4\n",
            "534780\n"
          ]
        }
      ],
      "source": [
        "import requests\n",
        "\n",
        "api_key = '3c755c2d553dd762458df0be8dc572a4'\n",
        "api_link = 'https://api.themoviedb.org/3'\n",
        "\n",
        "params= {'query': \"Andhadhun\", 'api_key': api_key }\n",
        "header= {'Accept': 'application/json'}\n",
        "\n",
        "response = requests.get(api_link+\"/search/movie\",headers= header, params=params)\n",
        "\n",
        "data= response.json()\n",
        "results= data.get('results')\n",
        "for i in results:\n",
        "   if i.get(\"title\")=='Andhadhun':\n",
        "       print(i.get('id'))\n"
      ]
    },
    {
      "cell_type": "markdown",
      "source": [
        "Fetch the company id company 'Marvel Studios'. Print the id."
      ],
      "metadata": {
        "id": "2nAR-WSyGmI1"
      }
    },
    {
      "cell_type": "code",
      "source": [
        "import requests\n",
        "\n",
        "api_key = '3c755c2d553dd762458df0be8dc572a4'\n",
        "api_link = 'https://api.themoviedb.org/3/search/company'\n",
        "\n",
        "params= {'query': 'Marvel Studios', 'api_key': api_key }\n",
        "header= {'Accept': 'application/json'}\n",
        "\n",
        "\n",
        "response = requests.get(api_link,headers= header, params=params)\n",
        "\n",
        "#print(response.url)\n",
        "data= response.json()\n",
        "results= data.get('results')\n",
        "for i in results:\n",
        "    if i.get(\"name\")=='Marvel Studios':\n",
        "        print(i.get('id'))"
      ],
      "metadata": {
        "colab": {
          "base_uri": "https://localhost:8080/"
        },
        "id": "XX9fgjE-GhNi",
        "outputId": "b88b10de-f940-46bf-fe44-16d43c29f057"
      },
      "execution_count": null,
      "outputs": [
        {
          "output_type": "stream",
          "name": "stdout",
          "text": [
            "420\n"
          ]
        }
      ]
    },
    {
      "cell_type": "markdown",
      "source": [
        "Find the vote count and vote average of the movie \"3 Idiots\".\n",
        "Output format: Vote Count , Vote Average\n",
        "\n"
      ],
      "metadata": {
        "id": "p-yiI1u5G0uS"
      }
    },
    {
      "cell_type": "code",
      "source": [
        "import requests\n",
        "\n",
        "api_key = '3c755c2d553dd762458df0be8dc572a4'\n",
        "api_link = 'https://api.themoviedb.org/3'\n",
        "\n",
        "params= {'query': \"3 Idiots\", 'api_key': api_key }\n",
        "header= {'Accept': 'application/json'}\n",
        "\n",
        "response = requests.get(api_link+\"/search/movie\",headers= header, params=params)\n",
        "\n",
        "data= response.json()\n",
        "results= data.get('results')\n",
        "\n",
        "for i in results:\n",
        "    if i.get(\"title\")=='3 Idiots':\n",
        "        print(i.get('vote_count'), i.get('vote_average'))\n"
      ],
      "metadata": {
        "colab": {
          "base_uri": "https://localhost:8080/"
        },
        "id": "4dJFZOtFG6sa",
        "outputId": "15a074e3-ad25-4df0-f061-131ae789c8df"
      },
      "execution_count": null,
      "outputs": [
        {
          "output_type": "stream",
          "name": "stdout",
          "text": [
            "2149 7.99\n"
          ]
        }
      ]
    },
    {
      "cell_type": "markdown",
      "source": [
        "Fetch the names of top 5 similar movies to 'Inception' from the TMDb API. Print the name of the movies in a new line.\n",
        "movie_name_1\n",
        "movie_name_2\n",
        "and so on"
      ],
      "metadata": {
        "id": "jKKF9F14Hxnb"
      }
    },
    {
      "cell_type": "code",
      "source": [
        "import requests\n",
        "\n",
        "api_key = '3c755c2d553dd762458df0be8dc572a4'\n",
        "api_link = 'https://api.themoviedb.org/3'\n",
        "\n",
        "params= {'query': \"Inception\", 'api_key': api_key }\n",
        "header= {'Accept': 'application/json'}\n",
        "\n",
        "response = requests.get(api_link+\"/search/movie\",headers= header, params=params)\n",
        "\n",
        "data= response.json()\n",
        "results= data.get('results')\n",
        "#print(response.url)\n",
        "for i in results:\n",
        "  if i.get('original_title')==\"Inception\":\n",
        "    id= i.get('id')\n",
        "    #print(i.get('id'))\n",
        "params2={'api_key': api_key}\n",
        "\n",
        "response2= requests.get(api_link+\"/movie/\"+str(id)+\"/similar\",headers= header, params=params2)\n",
        "data2= response2.json()\n",
        "results2= data2.get('results')\n",
        "#print(results2)\n",
        "for i in results2[0:5]:\n",
        "  print(i.get('title'))\n",
        "\n"
      ],
      "metadata": {
        "colab": {
          "base_uri": "https://localhost:8080/"
        },
        "id": "_NwT3R_lH4Xp",
        "outputId": "145bb719-1543-442a-fc8e-861c79adb3f0"
      },
      "execution_count": null,
      "outputs": [
        {
          "output_type": "stream",
          "name": "stdout",
          "text": [
            "Commando\n",
            "Iron Eagle\n",
            "Interstella 5555\n",
            "Subway\n",
            "Suicide Kings\n"
          ]
        }
      ]
    },
    {
      "cell_type": "markdown",
      "source": [
        "Fetch the top rated english movies in the US region using the TMDb API. From the result, print the first 10 movies which have original language as english. Also print their genres. Output Format:\n",
        "movie_name_1 - genre_1, genre_2 ....\n",
        "and so on.."
      ],
      "metadata": {
        "id": "acvmef8sLXlg"
      }
    },
    {
      "cell_type": "code",
      "source": [
        "import requests\n",
        "\n",
        "api_key = '3c755c2d553dd762458df0be8dc572a4'\n",
        "api_link = 'https://api.themoviedb.org/3'\n",
        "\n",
        "params= {'api_key': api_key, 'region':'US' }\n",
        "header= {'Accept': 'application/json'}\n",
        "\n",
        "response = requests.get(api_link+\"/movie/top_rated\",headers= header, params=params)\n",
        "\n",
        "data= response.json()\n",
        "results= data.get('results')\n",
        "#print(response.url)\n",
        "title_array=[]\n",
        "genre_id_array=[]\n",
        "for i in results:\n",
        "  if i.get(\"original_language\")=='en':\n",
        "    title_array.append(i.get(\"title\"))\n",
        "    genre_id_array.append(i.get(\"genre_ids\"))\n",
        "\n",
        "#print(title_array)\n",
        "#print(genre_id_array)\n",
        "\n",
        "response2= requests.get(api_link+\"/genre/movie/list\",headers= header, params=params)\n",
        "data2= response2.json()\n",
        "genres= data2.get(\"genres\")\n",
        "#print(genres)\n",
        "#print(response2.url)\n",
        "mapping={}\n",
        "for i in genres:\n",
        "  mapping[i.get('id')]=i.get(\"name\")\n",
        "\n",
        "for i in range(10):\n",
        "  print(title_array[i],\"-\",end=\" \")\n",
        "  for j in genre_id_array[i]:\n",
        "    print(mapping.get(j),end=\",\")\n",
        "  print()"
      ],
      "metadata": {
        "colab": {
          "base_uri": "https://localhost:8080/"
        },
        "id": "60xwa6eBPgZ6",
        "outputId": "00b66456-6b62-4c5b-e99a-d898bbb1de8d"
      },
      "execution_count": null,
      "outputs": [
        {
          "output_type": "stream",
          "name": "stdout",
          "text": [
            "The Godfather - Drama,Crime,\n",
            "The Shawshank Redemption - Drama,Crime,\n",
            "The Godfather Part II - Drama,Crime,\n",
            "Schindler's List - Drama,History,War,\n",
            "12 Angry Men - Drama,\n",
            "The Dark Knight - Drama,Action,Crime,Thriller,\n",
            "The Green Mile - Fantasy,Drama,Crime,\n",
            "Pulp Fiction - Thriller,Crime,\n",
            "Forrest Gump - Comedy,Drama,Romance,\n",
            "The Lord of the Rings: The Return of the King - Adventure,Fantasy,Action,\n"
          ]
        }
      ]
    },
    {
      "cell_type": "markdown",
      "source": [
        "Find the name and birthplace of the present most popular person according to TMDb API. Output Format:\n",
        "id\n",
        "name - birthplace"
      ],
      "metadata": {
        "id": "xeE8AqVVmFo6"
      }
    },
    {
      "cell_type": "code",
      "source": [
        "import requests\n",
        "\n",
        "api_key = '3c755c2d553dd762458df0be8dc572a4'\n",
        "api_link = 'https://api.themoviedb.org/3'\n",
        "\n",
        "params= {'api_key': api_key }\n",
        "header= {'Accept': 'application/json'}\n",
        "\n",
        "response = requests.get(api_link+\"/person/popular\",headers= header, params=params)\n",
        "\n",
        "data= response.json()\n",
        "# results= data.get('results')\n",
        "# popular=[]\n",
        "# mapping={}\n",
        "# for i in results:\n",
        "#   popular.append(i.get('popularity'))\n",
        "\n",
        "# max(popular)\n",
        "id_popular= data.get(\"results\")[0].get('id')\n",
        "name_popular= data.get(\"results\")[0].get('name')\n",
        "#print(id_popular)\n",
        "#print(name_popular)\n",
        "\n",
        "response2= requests.get(api_link+\"/person/\"+str(id_popular),headers= header, params=params)\n",
        "data2= response2.json()\n",
        "print(name_popular,\"-\",data2.get(\"place_of_birth\"))\n",
        "\n"
      ],
      "metadata": {
        "colab": {
          "base_uri": "https://localhost:8080/"
        },
        "id": "wKUH-pkbmIl1",
        "outputId": "229d5b5a-9008-4bce-a056-45aee3e3c8c4"
      },
      "execution_count": null,
      "outputs": [
        {
          "output_type": "stream",
          "name": "stdout",
          "text": [
            "Julianne Moore - Fayetteville, North Carolina, USA\n"
          ]
        }
      ]
    },
    {
      "cell_type": "markdown",
      "source": [
        "Fetch the Instagram and Twitter handle of Indian Actress \"Alia Bhatt\" from the TMDb API.\n",
        "Output Format\n",
        "Print the Instagram and Twitter IDs space separated.\n",
        "instagram_id twitter_id"
      ],
      "metadata": {
        "id": "vAgZ1aK2vArM"
      }
    },
    {
      "cell_type": "code",
      "source": [
        "import requests\n",
        "\n",
        "api_key = '3c755c2d553dd762458df0be8dc572a4'\n",
        "api_link = 'https://api.themoviedb.org/3'\n",
        "\n",
        "params= {'query': \"Alia Bhatt\",'api_key': api_key }\n",
        "header= {'Accept': 'application/json'}\n",
        "\n",
        "response = requests.get(api_link+\"/search/person\",headers= header, params=params)\n",
        "data= response.json()\n",
        "\n",
        "results= data.get('results')\n",
        "#id= data.get(\"results\")[0].get(\"id\")\n",
        "for i in results:\n",
        "  alia_id= i.get('id')\n",
        "\n",
        "params2= {'api_key': api_key }\n",
        "response2 = requests.get(api_link+\"/person/\"+str(alia_id)+\"/external_ids\",headers= header, params=params2)\n",
        "#print(response2.url)\n",
        "data2= response2.json()\n",
        "print(data2.get(\"instagram_id\"), data2.get(\"twitter_id\"))"
      ],
      "metadata": {
        "colab": {
          "base_uri": "https://localhost:8080/"
        },
        "id": "QC0dUQAkr283",
        "outputId": "63cffbd9-38c9-4b44-ab3a-c197256c64f5"
      },
      "execution_count": null,
      "outputs": [
        {
          "output_type": "stream",
          "name": "stdout",
          "text": [
            "aliaabhatt Aliaa08\n"
          ]
        }
      ]
    },
    {
      "cell_type": "markdown",
      "source": [
        "Fetch the names of the character played by Tom Cruise in the movies:\n",
        "Top Gun,\n",
        "Mission: Impossible - Fallout,\n",
        "Minority Report,\n",
        "Edge of Tomorrow,\n",
        "Output Format:\n",
        "Print the names of the characters played by Tom Cruise line separated, in the respective order given in question.\n"
      ],
      "metadata": {
        "id": "oiB53C5Ib8L4"
      }
    },
    {
      "cell_type": "code",
      "source": [
        "import requests\n",
        "\n",
        "api_key = '3c755c2d553dd762458df0be8dc572a4'\n",
        "api_link = 'https://api.themoviedb.org/3'\n",
        "\n",
        "params= {'query': \"Tom Cruise\",'api_key': api_key }\n",
        "header= {'Accept': 'application/json'}\n",
        "\n",
        "response = requests.get(api_link+\"/search/person\",headers= header, params=params)\n",
        "data= response.json()\n",
        "results= data.get('results')\n",
        "#print(response.url)\n",
        "for i in results:\n",
        "  tom_id= i.get('id')\n",
        "\n",
        "params2= {'api_key': api_key }\n",
        "response2 = requests.get(api_link+\"/person/\"+str(tom_id)+\"/movie_credits\",headers= header, params=params2)\n",
        "#print(response2.url)\n",
        "data2= response2.json()\n",
        "cast_result= data2.get(\"cast\")\n",
        "for i in cast_result:\n",
        "  if i.get(\"original_title\")==\"Top Gun\":\n",
        "    print(i.get(\"character\"))\n",
        "  elif i.get(\"original_title\")==\"Mission: Impossible - Fallout\":\n",
        "    print(i.get(\"character\"))\n",
        "  elif i.get(\"original_title\")==\"Minority Report\":\n",
        "    print(i.get(\"character\"))\n",
        "  elif i.get(\"original_title\")==\"Edge of Tomorrow\":\n",
        "    print(i.get(\"character\"))"
      ],
      "metadata": {
        "colab": {
          "base_uri": "https://localhost:8080/"
        },
        "id": "6WJA93HWW6uj",
        "outputId": "04bafc4b-9551-4992-b4fe-66feb109d2b8"
      },
      "execution_count": null,
      "outputs": [
        {
          "output_type": "stream",
          "name": "stdout",
          "text": [
            "Chief John Anderton\n",
            "Lt. Pete 'Maverick' Mitchell\n",
            "Maj. William 'Bill' Cage\n",
            "Ethan Hunt\n"
          ]
        }
      ]
    },
    {
      "cell_type": "markdown",
      "source": [
        "Did James McAvoy play a role in the movie Deadpool 2. Print Yes or No.\n"
      ],
      "metadata": {
        "id": "OplrNKfQYhfP"
      }
    },
    {
      "cell_type": "code",
      "source": [
        "import requests\n",
        "\n",
        "api_key = '3c755c2d553dd762458df0be8dc572a4'\n",
        "api_link = 'https://api.themoviedb.org/3'\n",
        "\n",
        "params= {'query': \"Deadpool 2\",'api_key': api_key }\n",
        "header= {'Accept': 'application/json'}\n",
        "\n",
        "response = requests.get(api_link+\"/search/movie\",headers= header, params=params)\n",
        "data= response.json()\n",
        "results= data.get(\"results\")\n",
        "for i in results:\n",
        "  if i.get(\"original_title\")==\"Deadpool 2\":\n",
        "    movie_id=i.get(\"id\")\n",
        "\n",
        "response2 = requests.get(api_link+\"/movie/\"+str(movie_id)+\"/credits\",headers= header, params=params)\n",
        "data2= response2.json()\n",
        "check= data2.get(\"cast\")\n",
        "flag= False\n",
        "for i in check:\n",
        "  if i.get(\"name\")==\"James McAvoy\":\n",
        "    flag=True\n",
        "if flag==True:\n",
        "  print(\"Yes\")\n",
        "else:\n",
        "  print(\"No\")\n",
        "\n",
        "\n"
      ],
      "metadata": {
        "colab": {
          "base_uri": "https://localhost:8080/"
        },
        "id": "FuSM2LD9YoJB",
        "outputId": "23f0cf6f-61e4-42ae-9fc6-2d937ccb8df5"
      },
      "execution_count": null,
      "outputs": [
        {
          "output_type": "stream",
          "name": "stdout",
          "text": [
            "Yes\n"
          ]
        }
      ]
    },
    {
      "cell_type": "markdown",
      "source": [
        "Using the result obtained in previous question, find out if James McAvoy was credited for his role in movie Deadpool 2. Print Yes or No."
      ],
      "metadata": {
        "id": "zk4-SE_fem7f"
      }
    },
    {
      "cell_type": "code",
      "source": [
        "import requests\n",
        "\n",
        "api_key = '3c755c2d553dd762458df0be8dc572a4'\n",
        "api_link = 'https://api.themoviedb.org/3'\n",
        "\n",
        "params= {'query': \"Deadpool 2\",'api_key': api_key }\n",
        "header= {'Accept': 'application/json'}\n",
        "\n",
        "response = requests.get(api_link+\"/search/movie\",headers= header, params=params)\n",
        "data= response.json()\n",
        "results= data.get(\"results\")\n",
        "for i in results:\n",
        "  if i.get(\"original_title\")==\"Deadpool 2\":\n",
        "    movie_id=i.get(\"id\")\n",
        "\n",
        "response2 = requests.get(api_link+\"/movie/\"+str(movie_id)+\"/credits\",headers= header, params=params)\n",
        "data2= response2.json()\n",
        "check= data2.get(\"cast\")\n",
        "flag = False\n",
        "for i in check:\n",
        "  if i.get(\"name\")==\"James McAvoy\":\n",
        "    if \"uncredited\" in i.get(\"character\"):\n",
        "      flag=True\n",
        "if flag==True:\n",
        "  print(\"No\")\n",
        "else:\n",
        "  print(\"Yes\")\n",
        "\n",
        "\n"
      ],
      "metadata": {
        "colab": {
          "base_uri": "https://localhost:8080/"
        },
        "id": "4prKIvV0epoy",
        "outputId": "a15d1399-47cf-4550-d6f2-1344e8646e47"
      },
      "execution_count": null,
      "outputs": [
        {
          "output_type": "stream",
          "name": "stdout",
          "text": [
            "No\n"
          ]
        }
      ]
    },
    {
      "cell_type": "markdown",
      "source": [
        "Fetch the overview of the TV Show \"FRIENDS\" using TMDb API.\n",
        "Output Format:\n",
        "Print the Overview."
      ],
      "metadata": {
        "id": "kLecLjocmgBt"
      }
    },
    {
      "cell_type": "code",
      "source": [
        "import requests\n",
        "\n",
        "api_key = '3c755c2d553dd762458df0be8dc572a4'\n",
        "api_link = 'https://api.themoviedb.org/3'\n",
        "\n",
        "params= {'query': \"Friends\",'api_key': api_key }\n",
        "header= {'Accept': 'application/json'}\n",
        "\n",
        "response = requests.get(api_link+\"/search/tv\",headers= header, params=params)\n",
        "data= response.json()\n",
        "results= data.get(\"results\")\n",
        "for i in results:\n",
        "  if i.get(\"original_name\")==\"Friends\":\n",
        "    print(i.get(\"overview\"))"
      ],
      "metadata": {
        "colab": {
          "base_uri": "https://localhost:8080/"
        },
        "id": "PyTjwd--fIEW",
        "outputId": "4e7e76dd-bca0-48ce-ae11-2a2fd86643c2"
      },
      "execution_count": null,
      "outputs": [
        {
          "output_type": "stream",
          "name": "stdout",
          "text": [
            "Six young people from New York City, on their own and struggling to survive in the real world, find the companionship, comfort and support they get from each other to be the perfect antidote to the pressures of life.\n",
            "Friends is a short-lived kids-oriented drama that aired in the spring of 1979. The series, which was produced by Aaron Spelling and aired on ABC, starred Charlie Aiken, Jill Whelan, and Jarrod Johnson as three Southern Californian 11-year-olds. Karen Morrow also appeared. Only five one-hour episodes were produced before the series was cancelled.\n",
            "\n"
          ]
        }
      ]
    },
    {
      "cell_type": "markdown",
      "source": [
        "Fetch the name and air date of S06E05 of the TV Show 'The Big Bang Theory' from TMDb API.\n",
        "Output Format:\n",
        "episode_name - air_date"
      ],
      "metadata": {
        "id": "rUiCH_qsq0FY"
      }
    },
    {
      "cell_type": "code",
      "source": [
        "import requests\n",
        "\n",
        "api_key = '3c755c2d553dd762458df0be8dc572a4'\n",
        "api_link = 'https://api.themoviedb.org/3'\n",
        "\n",
        "params= {'query': \"The Big Bang Theory\",'api_key': api_key }\n",
        "header= {'Accept': 'application/json'}\n",
        "\n",
        "response = requests.get(api_link+\"/search/tv\",headers= header, params=params)\n",
        "data= response.json()\n",
        "results= data.get(\"results\")\n",
        "for i in results:\n",
        "  if i.get(\"original_name\")==\"The Big Bang Theory\":\n",
        "    sr_id=i.get(\"id\")\n",
        "\n",
        "\n",
        "#https://api.themoviedb.org/3/tv/{series_id}/season/{season_number}/episode/{episode_number}\n",
        "\n",
        "params2= {\"api_key\": api_key }\n",
        "response2 = requests.get(api_link+\"/tv/\"+str(sr_id)+\"/season/6/episode/5\",headers= header, params=params2)\n",
        "data2= response2.json()\n",
        "print(data2.get(\"name\"),\"-\",data2.get(\"air_date\"))"
      ],
      "metadata": {
        "colab": {
          "base_uri": "https://localhost:8080/"
        },
        "id": "4Ns-mPStq1zA",
        "outputId": "a22f1e50-3b63-466d-d1a8-df32c4897d2f"
      },
      "execution_count": null,
      "outputs": [
        {
          "output_type": "stream",
          "name": "stdout",
          "text": [
            "The Holographic Excitation - 2012-10-25\n"
          ]
        }
      ]
    },
    {
      "cell_type": "markdown",
      "source": [
        "Fetch the trending TV Shows for the week from the TMDb API and print the taglines of the top 5 shows. If there is no tagline, print 'Empty' instead\n",
        "Output Format:\n",
        "Print the taglines in new line."
      ],
      "metadata": {
        "id": "i8sjkdMjvELs"
      }
    },
    {
      "cell_type": "code",
      "source": [
        "import requests\n",
        "\n",
        "api_key = '3c755c2d553dd762458df0be8dc572a4'\n",
        "api_link = 'https://api.themoviedb.org/3'\n",
        "\n",
        "params= {'api_key': api_key }\n",
        "header= {'Accept': 'application/json'}\n",
        "\n",
        "response = requests.get(api_link+\"/trending/tv/week\",headers= header, params=params)\n",
        "data= response.json()\n",
        "results= data.get(\"results\")\n",
        "all_id= []\n",
        "for i in results[:5]:\n",
        "  all_id.append(i.get(\"id\"))\n",
        "for i in all_id:\n",
        "  response2= requests.get(api_link+\"/tv/\"+str(i),headers= header, params=params)\n",
        "  data2= response2.json()\n",
        "  if data2.get(\"tagline\")!=\"\":\n",
        "    print(data2.get(\"tagline\"))\n",
        "  else:\n",
        "    print(\"No\")\n"
      ],
      "metadata": {
        "colab": {
          "base_uri": "https://localhost:8080/"
        },
        "id": "0poerkcGvF0U",
        "outputId": "2b435a91-5772-47d0-b757-ceeee92a3289"
      },
      "execution_count": null,
      "outputs": [
        {
          "output_type": "stream",
          "name": "stdout",
          "text": [
            "No\n",
            "The pirates are coming.\n",
            "Warrior. Outcast. Rebel. Jedi.\n",
            "Growth is a group project.\n",
            "No\n"
          ]
        }
      ]
    },
    {
      "cell_type": "markdown",
      "source": [
        "Print the names of all the TV shows to be aired today whose original language is english.\n",
        "Output Format:\n",
        "Print the name of each TV show in a new line."
      ],
      "metadata": {
        "id": "nWh4Dtg5zIBy"
      }
    },
    {
      "cell_type": "code",
      "source": [
        "import requests\n",
        "\n",
        "api_key = '3c755c2d553dd762458df0be8dc572a4'\n",
        "api_link = 'https://api.themoviedb.org/3'\n",
        "\n",
        "params= {'language':\"en\",\"api_key\": api_key }\n",
        "header= {'Accept': 'application/json'}\n",
        "\n",
        "response = requests.get(api_link+\"/tv/airing_today\",headers= header, params=params)\n",
        "data= response.json()\n",
        "results= data.get(\"results\")\n",
        "for i in results:\n",
        "  if i.get(\"original_language\")==\"en\":\n",
        "    print(i.get(\"name\"))"
      ],
      "metadata": {
        "colab": {
          "base_uri": "https://localhost:8080/"
        },
        "id": "VTW1Vdt5zMSz",
        "outputId": "0827009d-972f-4083-f5cb-4bde55be16c3"
      },
      "execution_count": null,
      "outputs": [
        {
          "output_type": "stream",
          "name": "stdout",
          "text": [
            "GRAND SUMO Highlights\n",
            "Billions\n",
            "The Walking Dead: Daryl Dixon\n",
            "Big Brother\n"
          ]
        }
      ]
    },
    {
      "cell_type": "markdown",
      "source": [
        "Count the number of males and females in the cast of \"Money Heist\" using the TMDb API.\n",
        "Output Format:\n",
        "Print the count of male and female space separated.\n",
        "male_count female_count"
      ],
      "metadata": {
        "id": "80WyA0XQ1FOF"
      }
    },
    {
      "cell_type": "code",
      "source": [
        "import requests\n",
        "\n",
        "api_key = '3c755c2d553dd762458df0be8dc572a4'\n",
        "api_link = 'https://api.themoviedb.org/3'\n",
        "\n",
        "params= {'query': \"Money Heist\",'api_key': api_key }\n",
        "header= {'Accept': 'application/json'}\n",
        "\n",
        "response = requests.get(api_link+\"/search/tv\",headers= header, params=params)\n",
        "data= response.json()\n",
        "results= data.get(\"results\")\n",
        "for i in results:\n",
        "  if i.get(\"name\")==\"Money Heist\":\n",
        "    tv_id=i.get(\"id\")\n",
        "\n",
        "params2= {'id': tv_id,'api_key': api_key }\n",
        "response2 = requests.get(api_link+\"/tv/\"+str(tv_id)+\"/credits\",headers= header, params=params2)\n",
        "data2= response2.json()\n",
        "check= data2.get(\"cast\")\n",
        "c_female=0\n",
        "c_male=0\n",
        "for i in check:\n",
        "  if i.get(\"gender\")==1:\n",
        "    c_female+=1\n",
        "  if i.get(\"gender\")==2:\n",
        "    c_male+=1\n",
        "print(c_male, c_female)\n",
        "\n"
      ],
      "metadata": {
        "colab": {
          "base_uri": "https://localhost:8080/"
        },
        "id": "e8k3eGgZ05Ci",
        "outputId": "092c9c1e-f4ec-408c-f816-f2c48c355b59"
      },
      "execution_count": null,
      "outputs": [
        {
          "output_type": "stream",
          "name": "stdout",
          "text": [
            "10 5\n"
          ]
        }
      ]
    },
    {
      "cell_type": "code",
      "source": [
        "import requests\n",
        "import pandas as pd\n",
        "\n",
        "api_key = '3c755c2d553dd762458df0be8dc572a4'\n",
        "api_link = 'https://api.themoviedb.org/3'\n",
        "\n",
        "params= {'api_key': api_key }\n",
        "header= {'Accept': 'application/json'}\n",
        "\n",
        "response = requests.get(api_link+\"/trending/movie/week\",headers= header, params=params)\n",
        "print(response.url)"
      ],
      "metadata": {
        "id": "6sA1TlreqWmx"
      },
      "execution_count": null,
      "outputs": []
    },
    {
      "cell_type": "markdown",
      "source": [],
      "metadata": {
        "id": "YHL6_aOwqWLO"
      }
    },
    {
      "cell_type": "markdown",
      "source": [
        "Creating CVS file for movie data in search"
      ],
      "metadata": {
        "id": "GC1iLld63j4A"
      }
    },
    {
      "cell_type": "code",
      "source": [
        "import requests\n",
        "import pandas as pd\n",
        "\n",
        "api_key = '3c755c2d553dd762458df0be8dc572a4'\n",
        "api_link = 'https://api.themoviedb.org/3'\n",
        "\n",
        "params= {'api_key': api_key }\n",
        "header= {'Accept': 'application/json'}\n",
        "\n",
        "response = requests.get(api_link+\"/trending/movie/week\",headers= header, params=params)\n",
        "data= response.json()\n",
        "movie_id= []\n",
        "movie_title=[]\n",
        "movie_language=[]\n",
        "release_date=[]\n",
        "vote_average=[]\n",
        "vote_count=[]\n",
        "popularity=[]\n",
        "\n",
        "columnname= [\"Id\",\"Title\",\"Language\",\"Release_Date\",\"Vote_Average\",\"Vote_Count\",\"Popularity\"]\n",
        "\n",
        "results= data.get(\"results\")\n",
        "for i in results:\n",
        "  movie_id.append(i.get(\"id\"))\n",
        "  movie_title.append(i.get(\"original_title\"))\n",
        "  movie_language.append(i.get(\"original_language\"))\n",
        "  release_date.append(i.get(\"release_date\"))\n",
        "  vote_average.append(i.get(\"vote_average\"))\n",
        "  vote_count.append(i.get(\"vote_count\"))\n",
        "  popularity.append(i.get(\"popularity\"))\n",
        "\n",
        "movie_data= list(zip(movie_id,movie_title,movie_language,release_date,vote_average,vote_count,popularity))\n",
        "\n",
        "df= pd.DataFrame(movie_data, columns=columnname)\n",
        "#print(df.head())\n",
        "#print(df.describe())\n",
        "\n",
        "weekly_trending_movie= \"weekly_trending_movie.csv\"\n",
        "df.to_csv(weekly_trending_movie,index=False)"
      ],
      "metadata": {
        "id": "rXpb_D0A04_C"
      },
      "execution_count": null,
      "outputs": []
    },
    {
      "cell_type": "code",
      "source": [],
      "metadata": {
        "colab": {
          "base_uri": "https://localhost:8080/"
        },
        "id": "Qvj0TGxfFAfp",
        "outputId": "3d418dd7-f9ef-452a-9a61-a94e1dca1ceb"
      },
      "execution_count": 1,
      "outputs": [
        {
          "output_type": "stream",
          "name": "stdout",
          "text": [
            "https://api.themoviedb.org/3/trending/movie/week?api_key=3c755c2d553dd762458df0be8dc572a4\n"
          ]
        }
      ]
    }
  ]
}